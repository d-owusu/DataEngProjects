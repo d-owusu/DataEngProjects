{
 "cells": [
  {
   "cell_type": "code",
   "execution_count": 20,
   "id": "4dc09831",
   "metadata": {},
   "outputs": [
    {
     "name": "stdout",
     "output_type": "stream",
     "text": [
      "Requirement already satisfied: pyspark in /home/dominic/anaconda3/lib/python3.8/site-packages (3.2.1)\r\n",
      "Requirement already satisfied: py4j==0.10.9.3 in /home/dominic/.local/lib/python3.8/site-packages (from pyspark) (0.10.9.3)\r\n"
     ]
    }
   ],
   "source": [
    "!pip install pyspark\n",
    "import pyspark\n",
    "from pyspark.sql import SparkSession\n",
    "from pyspark import SparkContext\n"
   ]
  },
  {
   "cell_type": "code",
   "execution_count": 21,
   "id": "3abc70c3",
   "metadata": {},
   "outputs": [],
   "source": [
    "#  Create a spark session for the project\n",
    "spark=SparkSession.builder.appName('airline').getOrCreate()\n"
   ]
  },
  {
   "cell_type": "markdown",
   "id": "9382d048",
   "metadata": {},
   "source": []
  },
  {
   "cell_type": "code",
   "execution_count": 22,
   "id": "b54f43c3",
   "metadata": {},
   "outputs": [],
   "source": [
    "# Read data into spark\n",
    "AirlineDF = spark.read.option('header', 'true').csv('airlines1.csv')"
   ]
  },
  {
   "cell_type": "code",
   "execution_count": 26,
   "id": "be623cb5",
   "metadata": {},
   "outputs": [],
   "source": [
    "#Register dataframe as dataframe \n",
    "AirlineDF.createOrReplaceTempView ('AirlineTable')"
   ]
  },
  {
   "cell_type": "code",
   "execution_count": 30,
   "id": "a5100f25",
   "metadata": {},
   "outputs": [
    {
     "name": "stdout",
     "output_type": "stream",
     "text": [
      "(50001, 110)\n"
     ]
    }
   ],
   "source": [
    "# Shape of the dataframe \n",
    "print((AirlineDF.count(), len(AirlineDF.columns)))"
   ]
  },
  {
   "cell_type": "markdown",
   "id": "24d4e31b",
   "metadata": {},
   "source": [
    " There are 50001 rows and 110 columns"
   ]
  },
  {
   "cell_type": "code",
   "execution_count": 31,
   "id": "6c4c0d11",
   "metadata": {},
   "outputs": [
    {
     "name": "stdout",
     "output_type": "stream",
     "text": [
      "+---+----+-------+-----+----------+---------+----------+-----------------+------------------------+---------------------------+-----------+-------------------------------+---------------+------------------+------------------+------+--------------------+-----------+---------------+---------------+---------+-------------+----------------+----------------+----+--------------------+---------+-------------+--------------+-------+----------+-------+--------+---------------+--------+--------------------+----------+-------+---------+--------+------+----------+-------+--------+---------------+--------+------------------+----------+---------+----------------+--------+--------------+-----------------+-------+-------+--------+-------------+------------+------------+--------+-------------+-----------------+------------+-------------+---------------+------------------+--------------+--------------------+-----------+-----------+-----------+-------------+----------------+------------+--------------+----------------+-------------+-----------+-----------+-------------+----------------+------------+--------------+----------------+-------------+-----------+-----------+-------------+----------------+------------+--------------+----------------+-------------+-----------+-----------+-------------+----------------+------------+--------------+----------------+-------------+-----------+-----------+-------------+----------------+------------+--------------+----------------+-------------+-----------+\n",
      "|_c0|Year|Quarter|Month|DayofMonth|DayOfWeek|FlightDate|Reporting_Airline|DOT_ID_Reporting_Airline|IATA_CODE_Reporting_Airline|Tail_Number|Flight_Number_Reporting_Airline|OriginAirportID|OriginAirportSeqID|OriginCityMarketID|Origin|      OriginCityName|OriginState|OriginStateFips|OriginStateName|OriginWac|DestAirportID|DestAirportSeqID|DestCityMarketID|Dest|        DestCityName|DestState|DestStateFips| DestStateName|DestWac|CRSDepTime|DepTime|DepDelay|DepDelayMinutes|DepDel15|DepartureDelayGroups|DepTimeBlk|TaxiOut|WheelsOff|WheelsOn|TaxiIn|CRSArrTime|ArrTime|ArrDelay|ArrDelayMinutes|ArrDel15|ArrivalDelayGroups|ArrTimeBlk|Cancelled|CancellationCode|Diverted|CRSElapsedTime|ActualElapsedTime|AirTime|Flights|Distance|DistanceGroup|CarrierDelay|WeatherDelay|NASDelay|SecurityDelay|LateAircraftDelay|FirstDepTime|TotalAddGTime|LongestAddGTime|DivAirportLandings|DivReachedDest|DivActualElapsedTime|DivArrDelay|DivDistance|Div1Airport|Div1AirportID|Div1AirportSeqID|Div1WheelsOn|Div1TotalGTime|Div1LongestGTime|Div1WheelsOff|Div1TailNum|Div2Airport|Div2AirportID|Div2AirportSeqID|Div2WheelsOn|Div2TotalGTime|Div2LongestGTime|Div2WheelsOff|Div2TailNum|Div3Airport|Div3AirportID|Div3AirportSeqID|Div3WheelsOn|Div3TotalGTime|Div3LongestGTime|Div3WheelsOff|Div3TailNum|Div4Airport|Div4AirportID|Div4AirportSeqID|Div4WheelsOn|Div4TotalGTime|Div4LongestGTime|Div4WheelsOff|Div4TailNum|Div5Airport|Div5AirportID|Div5AirportSeqID|Div5WheelsOn|Div5TotalGTime|Div5LongestGTime|Div5WheelsOff|Div5TailNum|\n",
      "+---+----+-------+-----+----------+---------+----------+-----------------+------------------------+---------------------------+-----------+-------------------------------+---------------+------------------+------------------+------+--------------------+-----------+---------------+---------------+---------+-------------+----------------+----------------+----+--------------------+---------+-------------+--------------+-------+----------+-------+--------+---------------+--------+--------------------+----------+-------+---------+--------+------+----------+-------+--------+---------------+--------+------------------+----------+---------+----------------+--------+--------------+-----------------+-------+-------+--------+-------------+------------+------------+--------+-------------+-----------------+------------+-------------+---------------+------------------+--------------+--------------------+-----------+-----------+-----------+-------------+----------------+------------+--------------+----------------+-------------+-----------+-----------+-------------+----------------+------------+--------------+----------------+-------------+-----------+-----------+-------------+----------------+------------+--------------+----------------+-------------+-----------+-----------+-------------+----------------+------------+--------------+----------------+-------------+-----------+-----------+-------------+----------------+------------+--------------+----------------+-------------+-----------+\n",
      "|  0|1998|      1|    1|         2|        5|1998-01-02|               NW|                   19386|                         NW|     N297US|                            675|          13487|           1348701|             31650|   MSP|     Minneapolis, MN|         MN|           27.0|      Minnesota|       63|        14869|         1486902|           34614| SLC|  Salt Lake City, UT|       UT|         49.0|          Utah|     87|      1640| 1659.0|    19.0|           19.0|     1.0|                 1.0| 1600-1659|   24.0|   1723.0|  1856.0|   3.0|      1836| 1859.0|    23.0|           23.0|     1.0|               1.0| 1800-1859|      0.0|            null|     0.0|         176.0|            180.0|  153.0|    1.0|   991.0|            4|        null|        null|    null|         null|             null|        null|         null|           null|              null|          null|                null|       null|       null|       null|         null|            null|        null|          null|            null|         null|       null|       null|         null|            null|        null|          null|            null|         null|       null|       null|         null|            null|        null|          null|            null|         null|       null|       null|         null|            null|        null|          null|            null|         null|       null|       null|         null|            null|        null|          null|            null|         null|       null|\n",
      "|  1|2009|      2|    5|        28|        4|2009-05-28|               FL|                   20437|                         FL|     N946AT|                            671|          13342|           1334202|             33342|   MKE|       Milwaukee, WI|         WI|           55.0|      Wisconsin|       45|        13204|         1320401|           31454| MCO|         Orlando, FL|       FL|         12.0|       Florida|     33|      1204| 1202.0|    -2.0|            0.0|     0.0|                -1.0| 1200-1259|   10.0|   1212.0|  1533.0|   8.0|      1541| 1541.0|     0.0|            0.0|     0.0|               0.0| 1500-1559|      0.0|            null|     0.0|         157.0|            159.0|  141.0|    1.0|  1066.0|            5|        null|        null|    null|         null|             null|        null|         null|           null|               0.0|          null|                null|       null|       null|       null|         null|            null|        null|          null|            null|         null|       null|       null|         null|            null|        null|          null|            null|         null|       null|       null|         null|            null|        null|          null|            null|         null|       null|       null|         null|            null|        null|          null|            null|         null|       null|       null|         null|            null|        null|          null|            null|         null|       null|\n",
      "|  2|2013|      2|    6|        29|        6|2013-06-29|               MQ|                   20398|                         MQ|     N665MQ|                           3297|          11921|           1192102|             31921|   GJT|  Grand Junction, CO|         CO|            8.0|       Colorado|       82|        11298|         1129803|           30194| DFW|Dallas/Fort Worth...|       TX|         48.0|         Texas|     74|      1630| 1644.0|    14.0|           14.0|     0.0|                 0.0| 1600-1659|    9.0|   1653.0|  1936.0|   6.0|      1945| 1942.0|    -3.0|            0.0|     0.0|              -1.0| 1900-1959|      0.0|            null|     0.0|         135.0|            118.0|  103.0|    1.0|   773.0|            4|        null|        null|    null|         null|             null|        null|         null|           null|               0.0|          null|                null|       null|       null|       null|         null|            null|        null|          null|            null|         null|       null|       null|         null|            null|        null|          null|            null|         null|       null|       null|         null|            null|        null|          null|            null|         null|       null|       null|         null|            null|        null|          null|            null|         null|       null|       null|         null|            null|        null|          null|            null|         null|       null|\n",
      "|  3|2010|      3|    8|        31|        2|2010-08-31|               DL|                   19790|                         DL|     N6705Y|                           1806|          12892|           1289201|             32575|   LAX|     Los Angeles, CA|         CA|            6.0|     California|       91|        11433|         1143301|           31295| DTW|         Detroit, MI|       MI|         26.0|      Michigan|     43|      1305| 1305.0|     0.0|            0.0|     0.0|                 0.0| 1300-1359|   23.0|   1328.0|  2008.0|   7.0|      2035| 2015.0|   -20.0|            0.0|     0.0|              -2.0| 2000-2059|      0.0|            null|     0.0|         270.0|            250.0|  220.0|    1.0|  1979.0|            8|        null|        null|    null|         null|             null|        null|         null|           null|               0.0|          null|                null|       null|       null|       null|         null|            null|        null|          null|            null|         null|       null|       null|         null|            null|        null|          null|            null|         null|       null|       null|         null|            null|        null|          null|            null|         null|       null|       null|         null|            null|        null|          null|            null|         null|       null|       null|         null|            null|        null|          null|            null|         null|       null|\n",
      "|  4|2006|      1|    1|        15|        7|2006-01-15|               US|                   20355|                         US|     N504AU|                            465|          11618|           1161801|             31703|   EWR|          Newark, NJ|         NJ|           34.0|     New Jersey|       21|        11057|         1105702|           31057| CLT|       Charlotte, NC|       NC|         37.0|North Carolina|     36|      1820| 1911.0|    51.0|           51.0|     1.0|                 3.0| 1800-1859|   19.0|   1930.0|  2050.0|   8.0|      2026| 2058.0|    32.0|           32.0|     1.0|               2.0| 2000-2059|      0.0|            null|     0.0|         126.0|            107.0|   80.0|    1.0|   529.0|            3|         0.0|         0.0|     0.0|          0.0|             32.0|        null|         null|           null|              null|          null|                null|       null|       null|       null|         null|            null|        null|          null|            null|         null|       null|       null|         null|            null|        null|          null|            null|         null|       null|       null|         null|            null|        null|          null|            null|         null|       null|       null|         null|            null|        null|          null|            null|         null|       null|       null|         null|            null|        null|          null|            null|         null|       null|\n",
      "|  5|1995|      4|   11|        29|        3|1995-11-29|               DL|                   19790|                         DL|     N925DL|                           1198|          11298|           1129802|             30194|   DFW|Dallas/Fort Worth...|         TX|           48.0|          Texas|       74|        14814|         1481401|           30476| SHV|      Shreveport, LA|       LA|         22.0|     Louisiana|     72|       639|  639.0|     0.0|            0.0|     0.0|                 0.0| 0600-0659|   29.0|    708.0|   736.0|   5.0|       730|  741.0|    11.0|           11.0|     0.0|               0.0| 0700-0759|      0.0|            null|     0.0|          51.0|             62.0|   28.0|    1.0|   190.0|            1|        null|        null|    null|         null|             null|        null|         null|           null|              null|          null|                null|       null|       null|       null|         null|            null|        null|          null|            null|         null|       null|       null|         null|            null|        null|          null|            null|         null|       null|       null|         null|            null|        null|          null|            null|         null|       null|       null|         null|            null|        null|          null|            null|         null|       null|       null|         null|            null|        null|          null|            null|         null|       null|\n",
      "|  6|2006|      3|    8|         7|        1|2006-08-07|               CO|                   19704|                         CO|     N27724|                           1431|          10721|           1072101|             30721|   BOS|          Boston, MA|         MA|           25.0|  Massachusetts|       13|        11042|         1104201|           30647| CLE|       Cleveland, OH|       OH|         39.0|          Ohio|     44|      1755| 1751.0|    -4.0|            0.0|     0.0|                -1.0| 1700-1759|   33.0|   1824.0|  1958.0|   4.0|      2000| 2002.0|     2.0|            2.0|     0.0|               0.0| 2000-2059|      0.0|            null|     0.0|         125.0|            131.0|   94.0|    1.0|   563.0|            3|        null|        null|    null|         null|             null|        null|         null|           null|              null|          null|                null|       null|       null|       null|         null|            null|        null|          null|            null|         null|       null|       null|         null|            null|        null|          null|            null|         null|       null|       null|         null|            null|        null|          null|            null|         null|       null|       null|         null|            null|        null|          null|            null|         null|       null|       null|         null|            null|        null|          null|            null|         null|       null|\n",
      "|  7|2019|      2|    6|        11|        2|2019-06-11|               9E|                   20363|                         9E|     N927XJ|                           3459|          10397|           1039707|             30397|   ATL|         Atlanta, GA|         GA|           13.0|        Georgia|       34|        10868|         1086803|           30868| CAE|        Columbia, SC|       SC|         45.0|South Carolina|     37|      1950| 2331.0|   221.0|          221.0|     1.0|                12.0| 1900-1959|   19.0|   2350.0|    25.0|   6.0|      2057|   31.0|   214.0|          214.0|     1.0|              12.0| 2000-2059|      0.0|            null|     0.0|          67.0|             60.0|   35.0|    1.0|   192.0|            1|         0.0|         0.0|     0.0|          0.0|            214.0|        null|         null|           null|               0.0|          null|                null|       null|       null|       null|         null|            null|        null|          null|            null|         null|       null|       null|         null|            null|        null|          null|            null|         null|       null|       null|         null|            null|        null|          null|            null|         null|       null|       null|         null|            null|        null|          null|            null|         null|       null|       null|         null|            null|        null|          null|            null|         null|       null|\n",
      "|  8|2008|      3|    8|         3|        7|2008-08-03|               YV|                   20378|                         YV|     N522LR|                           7233|          13930|           1393001|             30977|   ORD|         Chicago, IL|         IL|           17.0|       Illinois|       41|        11042|         1104201|           30647| CLE|       Cleveland, OH|       OH|         39.0|          Ohio|     44|      1550| 1552.0|     2.0|            2.0|     0.0|                 0.0| 1500-1559|   26.0|   1618.0|  1817.0|   3.0|      1810| 1820.0|    10.0|           10.0|     0.0|               0.0| 1800-1859|      0.0|            null|     0.0|          80.0|             88.0|   59.0|    1.0|   316.0|            2|        null|        null|    null|         null|             null|        null|         null|           null|              null|          null|                null|       null|       null|       null|         null|            null|        null|          null|            null|         null|       null|       null|         null|            null|        null|          null|            null|         null|       null|       null|         null|            null|        null|          null|            null|         null|       null|       null|         null|            null|        null|          null|            null|         null|       null|       null|         null|            null|        null|          null|            null|         null|       null|\n",
      "|  9|2018|      1|    2|         8|        4|2018-02-08|               WN|                   19393|                         WN|     N8688J|                           5932|          13232|           1323202|             30977|   MDW|         Chicago, IL|         IL|           17.0|       Illinois|       41|        11259|         1125903|           30194| DAL|          Dallas, TX|       TX|         48.0|         Texas|     74|      2030| 2046.0|    16.0|           16.0|     1.0|                 1.0| 2000-2059|   34.0|   2120.0|  2314.0|   5.0|      2250| 2319.0|    29.0|           29.0|     1.0|               1.0| 2200-2259|      0.0|            null|     0.0|         140.0|            153.0|  114.0|    1.0|   793.0|            4|         0.0|         0.0|    13.0|          0.0|             16.0|        null|         null|           null|               0.0|          null|                null|       null|       null|       null|         null|            null|        null|          null|            null|         null|       null|       null|         null|            null|        null|          null|            null|         null|       null|       null|         null|            null|        null|          null|            null|         null|       null|       null|         null|            null|        null|          null|            null|         null|       null|       null|         null|            null|        null|          null|            null|         null|       null|\n",
      "| 10|1991|      4|   11|        21|        4|1991-11-21|               US|                   20355|                         US|       null|                           2135|          14679|           1467902|             33570|   SAN|       San Diego, CA|         CA|            6.0|     California|       91|        12892|         1289201|           32575| LAX|     Los Angeles, CA|       CA|          6.0|    California|     91|      1245| 1247.0|     2.0|            2.0|     0.0|                 0.0| 1200-1259|   null|     null|    null|  null|      1325| 1331.0|     6.0|            6.0|     0.0|               0.0| 1300-1359|      0.0|            null|     0.0|          40.0|             44.0|   null|    1.0|   109.0|            1|        null|        null|    null|         null|             null|        null|         null|           null|              null|          null|                null|       null|       null|       null|         null|            null|        null|          null|            null|         null|       null|       null|         null|            null|        null|          null|            null|         null|       null|       null|         null|            null|        null|          null|            null|         null|       null|       null|         null|            null|        null|          null|            null|         null|       null|       null|         null|            null|        null|          null|            null|         null|       null|\n",
      "| 11|2014|      2|    4|         3|        4|2014-04-03|               WN|                   19393|                         WN|     N374SW|                           1463|          11540|           1154003|             30615|   ELP|         El Paso, TX|         TX|           48.0|          Texas|       74|        11259|         1125903|           30194| DAL|          Dallas, TX|       TX|         48.0|         Texas|     74|      1025| 1025.0|     0.0|            0.0|     0.0|                 0.0| 1000-1059|   10.0|   1035.0|  1252.0|   3.0|      1300| 1255.0|    -5.0|            0.0|     0.0|              -1.0| 1300-1359|      0.0|            null|     0.0|          95.0|             90.0|   77.0|    1.0|   562.0|            3|        null|        null|    null|         null|             null|        null|         null|           null|               0.0|          null|                null|       null|       null|       null|         null|            null|        null|          null|            null|         null|       null|       null|         null|            null|        null|          null|            null|         null|       null|       null|         null|            null|        null|          null|            null|         null|       null|       null|         null|            null|        null|          null|            null|         null|       null|       null|         null|            null|        null|          null|            null|         null|       null|\n",
      "| 12|1994|      3|    7|        24|        7|1994-07-24|               AA|                   19805|                         AA|       null|                            830|          14843|           1484302|             34819|   SJU|        San Juan, PR|         PR|           72.0|    Puerto Rico|        3|        13303|         1330302|           32467| MIA|           Miami, FL|       FL|         12.0|       Florida|     33|      1245| 1242.0|    -3.0|            0.0|     0.0|                -1.0| 1200-1259|   null|     null|    null|  null|      1521| 1511.0|   -10.0|            0.0|     0.0|              -1.0| 1500-1559|      0.0|            null|     0.0|         156.0|            149.0|   null|    1.0|  1045.0|            5|        null|        null|    null|         null|             null|        null|         null|           null|              null|          null|                null|       null|       null|       null|         null|            null|        null|          null|            null|         null|       null|       null|         null|            null|        null|          null|            null|         null|       null|       null|         null|            null|        null|          null|            null|         null|       null|       null|         null|            null|        null|          null|            null|         null|       null|       null|         null|            null|        null|          null|            null|         null|       null|\n",
      "| 13|2013|      2|    6|        30|        7|2013-06-30|               OO|                   20304|                         OO|     N947SW|                           6474|          10140|           1014002|             30140|   ABQ|     Albuquerque, NM|         NM|           35.0|     New Mexico|       86|        12892|         1289203|           32575| LAX|     Los Angeles, CA|       CA|          6.0|    California|     91|      1601| 1557.0|    -4.0|            0.0|     0.0|                -1.0| 1600-1659|    6.0|   1603.0|  1638.0|   8.0|      1705| 1646.0|   -19.0|            0.0|     0.0|              -2.0| 1700-1759|      0.0|            null|     0.0|         124.0|            109.0|   95.0|    1.0|   677.0|            3|        null|        null|    null|         null|             null|        null|         null|           null|               0.0|          null|                null|       null|       null|       null|         null|            null|        null|          null|            null|         null|       null|       null|         null|            null|        null|          null|            null|         null|       null|       null|         null|            null|        null|          null|            null|         null|       null|       null|         null|            null|        null|          null|            null|         null|       null|       null|         null|            null|        null|          null|            null|         null|       null|\n",
      "| 14|2003|      4|   11|        21|        5|2003-11-21|               UA|                   19977|                         UA|     N308UA|                            674|          13930|           1393001|             30977|   ORD|         Chicago, IL|         IL|           17.0|       Illinois|       41|        12953|         1295301|           31703| LGA|        New York, NY|       NY|         36.0|      New York|     22|       900|  855.0|    -5.0|            0.0|     0.0|                -1.0| 0900-0959|   14.0|    909.0|  1148.0|   2.0|      1206| 1150.0|   -16.0|            0.0|     0.0|              -2.0| 1200-1259|      0.0|            null|     0.0|         126.0|            115.0|   99.0|    1.0|   733.0|            3|        null|        null|    null|         null|             null|        null|         null|           null|              null|          null|                null|       null|       null|       null|         null|            null|        null|          null|            null|         null|       null|       null|         null|            null|        null|          null|            null|         null|       null|       null|         null|            null|        null|          null|            null|         null|       null|       null|         null|            null|        null|          null|            null|         null|       null|       null|         null|            null|        null|          null|            null|         null|       null|\n",
      "| 15|1988|      2|    4|         4|        1|1988-04-04|               PI|                   19822|                         PI|       null|                            362|          11995|           1199501|             31995|   GSO|Greensboro/High P...|         NC|           37.0| North Carolina|       36|        10821|         1082102|           30852| BWI|       Baltimore, MD|       MD|         24.0|      Maryland|     35|       630|  631.0|     1.0|            1.0|     0.0|                 0.0| 0600-0659|   null|     null|    null|  null|       728|  737.0|     9.0|            9.0|     0.0|               0.0| 0700-0759|      0.0|            null|     0.0|          58.0|             66.0|   null|    1.0|   278.0|            2|        null|        null|    null|         null|             null|        null|         null|           null|              null|          null|                null|       null|       null|       null|         null|            null|        null|          null|            null|         null|       null|       null|         null|            null|        null|          null|            null|         null|       null|       null|         null|            null|        null|          null|            null|         null|       null|       null|         null|            null|        null|          null|            null|         null|       null|       null|         null|            null|        null|          null|            null|         null|       null|\n",
      "| 16|2007|      3|    9|         5|        3|2007-09-05|               NW|                   19386|                         NW|     N8928E|                           1678|          11433|           1143301|             31295|   DTW|         Detroit, MI|         MI|           26.0|       Michigan|       43|        13184|         1318402|           33184| MBS|Saginaw/Bay City/...|       MI|         26.0|      Michigan|     43|      1201| 1150.0|   -11.0|            0.0|     0.0|                -1.0| 1200-1259|   20.0|   1210.0|  1234.0|   5.0|      1246| 1239.0|    -7.0|            0.0|     0.0|              -1.0| 1200-1259|      0.0|            null|     0.0|          45.0|             49.0|   24.0|    1.0|    98.0|            1|        null|        null|    null|         null|             null|        null|         null|           null|              null|          null|                null|       null|       null|       null|         null|            null|        null|          null|            null|         null|       null|       null|         null|            null|        null|          null|            null|         null|       null|       null|         null|            null|        null|          null|            null|         null|       null|       null|         null|            null|        null|          null|            null|         null|       null|       null|         null|            null|        null|          null|            null|         null|       null|\n",
      "| 17|2015|      3|    9|         5|        6|2015-09-05|               AS|                   19930|                         AS|     N589AS|                            413|          14869|           1486903|             34614|   SLC|  Salt Lake City, UT|         UT|           49.0|           Utah|       87|        14747|         1474703|           30559| SEA|         Seattle, WA|       WA|         53.0|    Washington|     93|      1745| 1733.0|   -12.0|            0.0|     0.0|                -1.0| 1700-1759|    9.0|   1742.0|  1824.0|   8.0|      1855| 1832.0|   -23.0|            0.0|     0.0|              -2.0| 1800-1859|      0.0|            null|     0.0|         130.0|            119.0|  102.0|    1.0|   689.0|            3|        null|        null|    null|         null|             null|        null|         null|           null|               0.0|          null|                null|       null|       null|       null|         null|            null|        null|          null|            null|         null|       null|       null|         null|            null|        null|          null|            null|         null|       null|       null|         null|            null|        null|          null|            null|         null|       null|       null|         null|            null|        null|          null|            null|         null|       null|       null|         null|            null|        null|          null|            null|         null|       null|\n",
      "| 18|2006|      1|    1|        28|        6|2006-01-28|               UA|                   19977|                         UA|     N426UA|                            210|          12892|           1289201|             32575|   LAX|     Los Angeles, CA|         CA|            6.0|     California|       91|        12264|         1226401|           30852| IAD|      Washington, DC|       VA|         51.0|      Virginia|     38|      1545| 1542.0|    -3.0|            0.0|     0.0|                -1.0| 1500-1559|   11.0|   1553.0|  2308.0|   5.0|      2327| 2313.0|   -14.0|            0.0|     0.0|              -1.0| 2300-2359|      0.0|            null|     0.0|         282.0|            271.0|  255.0|    1.0|  2288.0|           10|        null|        null|    null|         null|             null|        null|         null|           null|              null|          null|                null|       null|       null|       null|         null|            null|        null|          null|            null|         null|       null|       null|         null|            null|        null|          null|            null|         null|       null|       null|         null|            null|        null|          null|            null|         null|       null|       null|         null|            null|        null|          null|            null|         null|       null|       null|         null|            null|        null|          null|            null|         null|       null|\n",
      "| 19|2017|      3|    7|        26|        3|2017-07-26|               WN|                   19393|                         WN|     N252WN|                            995|          14893|           1489302|             33192|   SMF|      Sacramento, CA|         CA|            6.0|     California|       91|        12892|         1289205|           32575| LAX|     Los Angeles, CA|       CA|          6.0|    California|     91|      1535|   null|    null|           null|    null|                null| 1500-1559|   null|     null|    null|  null|      1700|   null|    null|           null|    null|              null| 1700-1759|      1.0|               A|     0.0|          85.0|             null|   null|    1.0|   373.0|            2|        null|        null|    null|         null|             null|        null|         null|           null|               0.0|          null|                null|       null|       null|       null|         null|            null|        null|          null|            null|         null|       null|       null|         null|            null|        null|          null|            null|         null|       null|       null|         null|            null|        null|          null|            null|         null|       null|       null|         null|            null|        null|          null|            null|         null|       null|       null|         null|            null|        null|          null|            null|         null|       null|\n",
      "+---+----+-------+-----+----------+---------+----------+-----------------+------------------------+---------------------------+-----------+-------------------------------+---------------+------------------+------------------+------+--------------------+-----------+---------------+---------------+---------+-------------+----------------+----------------+----+--------------------+---------+-------------+--------------+-------+----------+-------+--------+---------------+--------+--------------------+----------+-------+---------+--------+------+----------+-------+--------+---------------+--------+------------------+----------+---------+----------------+--------+--------------+-----------------+-------+-------+--------+-------------+------------+------------+--------+-------------+-----------------+------------+-------------+---------------+------------------+--------------+--------------------+-----------+-----------+-----------+-------------+----------------+------------+--------------+----------------+-------------+-----------+-----------+-------------+----------------+------------+--------------+----------------+-------------+-----------+-----------+-------------+----------------+------------+--------------+----------------+-------------+-----------+-----------+-------------+----------------+------------+--------------+----------------+-------------+-----------+-----------+-------------+----------------+------------+--------------+----------------+-------------+-----------+\n",
      "only showing top 20 rows\n",
      "\n"
     ]
    },
    {
     "name": "stderr",
     "output_type": "stream",
     "text": [
      "22/05/31 11:28:49 WARN CSVHeaderChecker: CSV header does not conform to the schema.\n",
      " Header: , Year, Quarter, Month, DayofMonth, DayOfWeek, FlightDate, Reporting_Airline, DOT_ID_Reporting_Airline, IATA_CODE_Reporting_Airline, Tail_Number, Flight_Number_Reporting_Airline, OriginAirportID, OriginAirportSeqID, OriginCityMarketID, Origin, OriginCityName, OriginState, OriginStateFips, OriginStateName, OriginWac, DestAirportID, DestAirportSeqID, DestCityMarketID, Dest, DestCityName, DestState, DestStateFips, DestStateName, DestWac, CRSDepTime, DepTime, DepDelay, DepDelayMinutes, DepDel15, DepartureDelayGroups, DepTimeBlk, TaxiOut, WheelsOff, WheelsOn, TaxiIn, CRSArrTime, ArrTime, ArrDelay, ArrDelayMinutes, ArrDel15, ArrivalDelayGroups, ArrTimeBlk, Cancelled, CancellationCode, Diverted, CRSElapsedTime, ActualElapsedTime, AirTime, Flights, Distance, DistanceGroup, CarrierDelay, WeatherDelay, NASDelay, SecurityDelay, LateAircraftDelay, FirstDepTime, TotalAddGTime, LongestAddGTime, DivAirportLandings, DivReachedDest, DivActualElapsedTime, DivArrDelay, DivDistance, Div1Airport, Div1AirportID, Div1AirportSeqID, Div1WheelsOn, Div1TotalGTime, Div1LongestGTime, Div1WheelsOff, Div1TailNum, Div2Airport, Div2AirportID, Div2AirportSeqID, Div2WheelsOn, Div2TotalGTime, Div2LongestGTime, Div2WheelsOff, Div2TailNum, Div3Airport, Div3AirportID, Div3AirportSeqID, Div3WheelsOn, Div3TotalGTime, Div3LongestGTime, Div3WheelsOff, Div3TailNum, Div4Airport, Div4AirportID, Div4AirportSeqID, Div4WheelsOn, Div4TotalGTime, Div4LongestGTime, Div4WheelsOff, Div4TailNum, Div5Airport, Div5AirportID, Div5AirportSeqID, Div5WheelsOn, Div5TotalGTime, Div5LongestGTime, Div5WheelsOff, Div5TailNum\n",
      " Schema: _c0, Year, Quarter, Month, DayofMonth, DayOfWeek, FlightDate, Reporting_Airline, DOT_ID_Reporting_Airline, IATA_CODE_Reporting_Airline, Tail_Number, Flight_Number_Reporting_Airline, OriginAirportID, OriginAirportSeqID, OriginCityMarketID, Origin, OriginCityName, OriginState, OriginStateFips, OriginStateName, OriginWac, DestAirportID, DestAirportSeqID, DestCityMarketID, Dest, DestCityName, DestState, DestStateFips, DestStateName, DestWac, CRSDepTime, DepTime, DepDelay, DepDelayMinutes, DepDel15, DepartureDelayGroups, DepTimeBlk, TaxiOut, WheelsOff, WheelsOn, TaxiIn, CRSArrTime, ArrTime, ArrDelay, ArrDelayMinutes, ArrDel15, ArrivalDelayGroups, ArrTimeBlk, Cancelled, CancellationCode, Diverted, CRSElapsedTime, ActualElapsedTime, AirTime, Flights, Distance, DistanceGroup, CarrierDelay, WeatherDelay, NASDelay, SecurityDelay, LateAircraftDelay, FirstDepTime, TotalAddGTime, LongestAddGTime, DivAirportLandings, DivReachedDest, DivActualElapsedTime, DivArrDelay, DivDistance, Div1Airport, Div1AirportID, Div1AirportSeqID, Div1WheelsOn, Div1TotalGTime, Div1LongestGTime, Div1WheelsOff, Div1TailNum, Div2Airport, Div2AirportID, Div2AirportSeqID, Div2WheelsOn, Div2TotalGTime, Div2LongestGTime, Div2WheelsOff, Div2TailNum, Div3Airport, Div3AirportID, Div3AirportSeqID, Div3WheelsOn, Div3TotalGTime, Div3LongestGTime, Div3WheelsOff, Div3TailNum, Div4Airport, Div4AirportID, Div4AirportSeqID, Div4WheelsOn, Div4TotalGTime, Div4LongestGTime, Div4WheelsOff, Div4TailNum, Div5Airport, Div5AirportID, Div5AirportSeqID, Div5WheelsOn, Div5TotalGTime, Div5LongestGTime, Div5WheelsOff, Div5TailNum\n",
      "Expected: _c0 but found: \n",
      "CSV file: file:///home/dominic/Documents/projectpro/pyspark/2%20rdd/airlines1.csv\n"
     ]
    }
   ],
   "source": [
    "# Reading the registered Table\n",
    "spark.sql ('select * from AirlineTable').show()"
   ]
  },
  {
   "cell_type": "code",
   "execution_count": 36,
   "id": "dd1c376c",
   "metadata": {},
   "outputs": [
    {
     "name": "stdout",
     "output_type": "stream",
     "text": [
      "+--------------------+---------+-------+\n",
      "|            col_name|data_type|comment|\n",
      "+--------------------+---------+-------+\n",
      "|                 _c0|   string|   null|\n",
      "|                Year|   string|   null|\n",
      "|             Quarter|   string|   null|\n",
      "|               Month|   string|   null|\n",
      "|          DayofMonth|   string|   null|\n",
      "|           DayOfWeek|   string|   null|\n",
      "|          FlightDate|   string|   null|\n",
      "|   Reporting_Airline|   string|   null|\n",
      "|DOT_ID_Reporting_...|   string|   null|\n",
      "|IATA_CODE_Reporti...|   string|   null|\n",
      "|         Tail_Number|   string|   null|\n",
      "|Flight_Number_Rep...|   string|   null|\n",
      "|     OriginAirportID|   string|   null|\n",
      "|  OriginAirportSeqID|   string|   null|\n",
      "|  OriginCityMarketID|   string|   null|\n",
      "|              Origin|   string|   null|\n",
      "|      OriginCityName|   string|   null|\n",
      "|         OriginState|   string|   null|\n",
      "|     OriginStateFips|   string|   null|\n",
      "|     OriginStateName|   string|   null|\n",
      "|           OriginWac|   string|   null|\n",
      "|       DestAirportID|   string|   null|\n",
      "|    DestAirportSeqID|   string|   null|\n",
      "|    DestCityMarketID|   string|   null|\n",
      "|                Dest|   string|   null|\n",
      "|        DestCityName|   string|   null|\n",
      "|           DestState|   string|   null|\n",
      "|       DestStateFips|   string|   null|\n",
      "|       DestStateName|   string|   null|\n",
      "|             DestWac|   string|   null|\n",
      "|          CRSDepTime|   string|   null|\n",
      "|             DepTime|   string|   null|\n",
      "|            DepDelay|   string|   null|\n",
      "|     DepDelayMinutes|   string|   null|\n",
      "|            DepDel15|   string|   null|\n",
      "|DepartureDelayGroups|   string|   null|\n",
      "|          DepTimeBlk|   string|   null|\n",
      "|             TaxiOut|   string|   null|\n",
      "|           WheelsOff|   string|   null|\n",
      "|            WheelsOn|   string|   null|\n",
      "|              TaxiIn|   string|   null|\n",
      "|          CRSArrTime|   string|   null|\n",
      "|             ArrTime|   string|   null|\n",
      "|            ArrDelay|   string|   null|\n",
      "|     ArrDelayMinutes|   string|   null|\n",
      "|            ArrDel15|   string|   null|\n",
      "|  ArrivalDelayGroups|   string|   null|\n",
      "|          ArrTimeBlk|   string|   null|\n",
      "|           Cancelled|   string|   null|\n",
      "|    CancellationCode|   string|   null|\n",
      "|            Diverted|   string|   null|\n",
      "|      CRSElapsedTime|   string|   null|\n",
      "|   ActualElapsedTime|   string|   null|\n",
      "|             AirTime|   string|   null|\n",
      "|             Flights|   string|   null|\n",
      "|            Distance|   string|   null|\n",
      "|       DistanceGroup|   string|   null|\n",
      "|        CarrierDelay|   string|   null|\n",
      "|        WeatherDelay|   string|   null|\n",
      "|            NASDelay|   string|   null|\n",
      "|       SecurityDelay|   string|   null|\n",
      "|   LateAircraftDelay|   string|   null|\n",
      "|        FirstDepTime|   string|   null|\n",
      "|       TotalAddGTime|   string|   null|\n",
      "|     LongestAddGTime|   string|   null|\n",
      "|  DivAirportLandings|   string|   null|\n",
      "|      DivReachedDest|   string|   null|\n",
      "|DivActualElapsedTime|   string|   null|\n",
      "|         DivArrDelay|   string|   null|\n",
      "|         DivDistance|   string|   null|\n",
      "|         Div1Airport|   string|   null|\n",
      "|       Div1AirportID|   string|   null|\n",
      "|    Div1AirportSeqID|   string|   null|\n",
      "|        Div1WheelsOn|   string|   null|\n",
      "|      Div1TotalGTime|   string|   null|\n",
      "|    Div1LongestGTime|   string|   null|\n",
      "|       Div1WheelsOff|   string|   null|\n",
      "|         Div1TailNum|   string|   null|\n",
      "|         Div2Airport|   string|   null|\n",
      "|       Div2AirportID|   string|   null|\n",
      "|    Div2AirportSeqID|   string|   null|\n",
      "|        Div2WheelsOn|   string|   null|\n",
      "|      Div2TotalGTime|   string|   null|\n",
      "|    Div2LongestGTime|   string|   null|\n",
      "|       Div2WheelsOff|   string|   null|\n",
      "|         Div2TailNum|   string|   null|\n",
      "|         Div3Airport|   string|   null|\n",
      "|       Div3AirportID|   string|   null|\n",
      "|    Div3AirportSeqID|   string|   null|\n",
      "|        Div3WheelsOn|   string|   null|\n",
      "|      Div3TotalGTime|   string|   null|\n",
      "|    Div3LongestGTime|   string|   null|\n",
      "|       Div3WheelsOff|   string|   null|\n",
      "|         Div3TailNum|   string|   null|\n",
      "|         Div4Airport|   string|   null|\n",
      "|       Div4AirportID|   string|   null|\n",
      "|    Div4AirportSeqID|   string|   null|\n",
      "|        Div4WheelsOn|   string|   null|\n",
      "|      Div4TotalGTime|   string|   null|\n",
      "|    Div4LongestGTime|   string|   null|\n",
      "|       Div4WheelsOff|   string|   null|\n",
      "|         Div4TailNum|   string|   null|\n",
      "|         Div5Airport|   string|   null|\n",
      "|       Div5AirportID|   string|   null|\n",
      "|    Div5AirportSeqID|   string|   null|\n",
      "|        Div5WheelsOn|   string|   null|\n",
      "|      Div5TotalGTime|   string|   null|\n",
      "|    Div5LongestGTime|   string|   null|\n",
      "|       Div5WheelsOff|   string|   null|\n",
      "|         Div5TailNum|   string|   null|\n",
      "+--------------------+---------+-------+\n",
      "\n"
     ]
    }
   ],
   "source": [
    "spark.sql ('describe AirlineTable').show(110)"
   ]
  },
  {
   "cell_type": "markdown",
   "id": "e2fa0e6c",
   "metadata": {},
   "source": [
    "Describe function gives attributes of the dataframe "
   ]
  },
  {
   "cell_type": "code",
   "execution_count": 35,
   "id": "94ab77e8",
   "metadata": {},
   "outputs": [
    {
     "name": "stdout",
     "output_type": "stream",
     "text": [
      "+------+--------------------+\n",
      "|origin|        destcityname|\n",
      "+------+--------------------+\n",
      "|   MSP|  Salt Lake City, UT|\n",
      "|   MKE|         Orlando, FL|\n",
      "|   GJT|Dallas/Fort Worth...|\n",
      "|   LAX|         Detroit, MI|\n",
      "|   EWR|       Charlotte, NC|\n",
      "|   DFW|      Shreveport, LA|\n",
      "|   BOS|       Cleveland, OH|\n",
      "|   ATL|        Columbia, SC|\n",
      "|   ORD|       Cleveland, OH|\n",
      "|   MDW|          Dallas, TX|\n",
      "|   SAN|     Los Angeles, CA|\n",
      "|   ELP|          Dallas, TX|\n",
      "|   SJU|           Miami, FL|\n",
      "|   ABQ|     Los Angeles, CA|\n",
      "|   ORD|        New York, NY|\n",
      "|   GSO|       Baltimore, MD|\n",
      "|   DTW|Saginaw/Bay City/...|\n",
      "|   SLC|         Seattle, WA|\n",
      "|   LAX|      Washington, DC|\n",
      "|   SMF|     Los Angeles, CA|\n",
      "+------+--------------------+\n",
      "only showing top 20 rows\n",
      "\n"
     ]
    }
   ],
   "source": [
    "#Select columns from table\n",
    "spark.sql('select origin, destcityname from AirlineTable').show()\n"
   ]
  },
  {
   "cell_type": "code",
   "execution_count": 39,
   "id": "2a6d80d0",
   "metadata": {},
   "outputs": [
    {
     "name": "stdout",
     "output_type": "stream",
     "text": [
      "+--------------------+\n",
      "|avg(DepDelayMinutes)|\n",
      "+--------------------+\n",
      "|  10.851455322613475|\n",
      "+--------------------+\n",
      "\n"
     ]
    }
   ],
   "source": [
    "#Average delay time\n",
    "spark.sql ('select avg(DepDelayMinutes) from AirlineTable').show()"
   ]
  },
  {
   "cell_type": "markdown",
   "id": "ad1fd31c",
   "metadata": {},
   "source": [
    "There is an average of 10.85 minutes delay"
   ]
  },
  {
   "cell_type": "code",
   "execution_count": 51,
   "id": "37539f3a",
   "metadata": {},
   "outputs": [
    {
     "name": "stdout",
     "output_type": "stream",
     "text": [
      "+-------------------------------+-----------+\n",
      "|Flight_Number_Reporting_Airline|Total_delay|\n",
      "+-------------------------------+-----------+\n",
      "|                            675|       42.0|\n",
      "|                            671|       -2.0|\n",
      "|                           3297|       11.0|\n",
      "|                           1806|      -20.0|\n",
      "|                            465|       83.0|\n",
      "|                           1198|       11.0|\n",
      "|                           1431|       -2.0|\n",
      "|                           3459|      435.0|\n",
      "|                           7233|       12.0|\n",
      "|                           5932|       45.0|\n",
      "|                           2135|        8.0|\n",
      "|                           1463|       -5.0|\n",
      "|                            830|      -13.0|\n",
      "|                           6474|      -23.0|\n",
      "|                            674|      -21.0|\n",
      "|                            362|       10.0|\n",
      "|                           1678|      -18.0|\n",
      "|                            413|      -35.0|\n",
      "|                            210|      -17.0|\n",
      "|                            995|       null|\n",
      "+-------------------------------+-----------+\n",
      "only showing top 20 rows\n",
      "\n"
     ]
    }
   ],
   "source": [
    "#calcute the overall filigt delay\n",
    "spark.sql('select Flight_Number_Reporting_Airline , DepDelay+ArrDelay as Total_delay from AirlineTable').show()"
   ]
  },
  {
   "cell_type": "code",
   "execution_count": 49,
   "id": "5892f109",
   "metadata": {},
   "outputs": [
    {
     "name": "stdout",
     "output_type": "stream",
     "text": [
      "+---------------------------+---------------------+\n",
      "|IATA_CODE_Reporting_Airline|(DepDelay + ArrDelay)|\n",
      "+---------------------------+---------------------+\n",
      "|                         NW|                 42.0|\n",
      "|                         FL|                 -2.0|\n",
      "|                         MQ|                 11.0|\n",
      "|                         DL|                -20.0|\n",
      "|                         US|                 83.0|\n",
      "|                         DL|                 11.0|\n",
      "|                         CO|                 -2.0|\n",
      "|                         9E|                435.0|\n",
      "|                         YV|                 12.0|\n",
      "|                         WN|                 45.0|\n",
      "|                         US|                  8.0|\n",
      "|                         WN|                 -5.0|\n",
      "|                         AA|                -13.0|\n",
      "|                         OO|                -23.0|\n",
      "|                         UA|                -21.0|\n",
      "|                         PI|                 10.0|\n",
      "|                         NW|                -18.0|\n",
      "|                         AS|                -35.0|\n",
      "|                         UA|                -17.0|\n",
      "|                         WN|                 null|\n",
      "+---------------------------+---------------------+\n",
      "only showing top 20 rows\n",
      "\n"
     ]
    }
   ],
   "source": [
    "#calc overall flight delay\n",
    "spark.sql('select IATA_CODE_Reporting_Airline , (DepDelay+ArrDelay) from AirlineTable desc ').show()"
   ]
  },
  {
   "cell_type": "code",
   "execution_count": 57,
   "id": "d4ae7421",
   "metadata": {},
   "outputs": [
    {
     "name": "stdout",
     "output_type": "stream",
     "text": [
      "+------+--------+--------------------+--------------------+\n",
      "|origin|count(1)|avg(DepDelayMinutes)|max(DepDelayMinutes)|\n",
      "+------+--------+--------------------+--------------------+\n",
      "|   ABE|      49|   6.659574468085107|                44.0|\n",
      "|   ABI|      11|  0.5555555555555556|                 4.0|\n",
      "|   ABQ|     290|   9.041958041958042|                 9.0|\n",
      "|   ABR|       3|               284.0|               852.0|\n",
      "|   ABY|       3|                20.0|                30.0|\n",
      "|   ACK|       1|                 0.0|                 0.0|\n",
      "|   ACT|      16|              3.1875|                33.0|\n",
      "|   ACV|      14|   7.071428571428571|                 7.0|\n",
      "|   ACY|       5|                 7.6|                38.0|\n",
      "|   ADK|       2|                 6.5|                13.0|\n",
      "|   ADQ|       4|   4.666666666666667|                14.0|\n",
      "|   AEX|      11|   8.090909090909092|                34.0|\n",
      "|   AGS|      27|  23.814814814814813|                64.0|\n",
      "|   AKN|       2|                 9.5|                 4.0|\n",
      "|   ALB|     111|  7.5504587155963305|                 9.0|\n",
      "|   ALO|       3|                 0.0|                 0.0|\n",
      "|   AMA|      47|   9.065217391304348|                72.0|\n",
      "|   ANC|     146|  11.282758620689656|                 9.0|\n",
      "|   APN|       2|                 0.0|                 0.0|\n",
      "|   ART|       1|                 0.0|                 0.0|\n",
      "|   ASE|      18|               10.75|                 9.0|\n",
      "|   ATL|    2669|  11.626854317230887|                99.0|\n",
      "|   ATW|      13|                3.25|                24.0|\n",
      "|   AUS|     355|  11.005698005698006|                 9.0|\n",
      "|   AVL|      29|  23.178571428571427|                89.0|\n",
      "|   AVP|      26|              13.125|                70.0|\n",
      "|   AZA|       3|                 0.0|                 0.0|\n",
      "|   AZO|      24|   8.130434782608695|                23.0|\n",
      "|   BDL|     245|  7.4979253112033195|                94.0|\n",
      "|   BET|       4|                6.25|                 6.0|\n",
      "|   BFL|      12|  32.083333333333336|                45.0|\n",
      "|   BGM|      11|                 4.0|                40.0|\n",
      "|   BGR|      19|  15.052631578947368|                59.0|\n",
      "|   BHM|     142|   8.385714285714286|                90.0|\n",
      "|   BIL|      32|             7.90625|                 9.0|\n",
      "|   BIS|      16|             24.8125|               365.0|\n",
      "|   BJI|       2|                 0.0|                 0.0|\n",
      "|   BLI|       6|   4.666666666666667|                27.0|\n",
      "|   BLV|       1|                 0.0|                 0.0|\n",
      "|   BMI|      15|  17.785714285714285|                20.0|\n",
      "|   BNA|     460|   7.797802197802198|                95.0|\n",
      "|   BOI|     102|  12.843137254901961|                91.0|\n",
      "|   BOS|     884|  12.308962264150944|                96.0|\n",
      "|   BPT|       3|  55.333333333333336|                37.0|\n",
      "|   BQK|       4|                8.75|                25.0|\n",
      "|   BQN|       4|                45.5|                 3.0|\n",
      "|   BRO|      12|   4.083333333333333|                43.0|\n",
      "|   BRW|       6|                10.0|                30.0|\n",
      "|   BTM|       3|                10.0|                30.0|\n",
      "|   BTR|      66|   8.384615384615385|                 8.0|\n",
      "|   BTV|      43|  11.465116279069768|                 6.0|\n",
      "|   BUF|     194|  10.552083333333334|                 9.0|\n",
      "|   BUR|     222|    6.58256880733945|                98.0|\n",
      "|   BWI|     698|  10.634393063583815|                95.0|\n",
      "|   BZN|      31|   16.35483870967742|                95.0|\n",
      "|   CAE|      64|   6.492063492063492|                 8.0|\n",
      "|   CAK|      46|                 5.2|                 5.0|\n",
      "|   CCR|       1|                 0.0|                 0.0|\n",
      "|   CDC|       2|                 0.0|                 0.0|\n",
      "|   CDV|      10|                 1.8|                18.0|\n",
      "|   CEC|       5|                22.8|               114.0|\n",
      "|   CHA|      31|   4.333333333333333|                69.0|\n",
      "|   CHO|      14|  15.142857142857142|                33.0|\n",
      "|   CHS|     109|   7.757009345794392|                 9.0|\n",
      "|   CIC|       7|   36.57142857142857|                71.0|\n",
      "|   CID|      54|   20.40740740740741|                 7.0|\n",
      "|   CKB|       1|                 0.0|                 0.0|\n",
      "|   CLD|       7|   4.571428571428571|                32.0|\n",
      "|   CLE|     479|   6.721868365180467|                 9.0|\n",
      "|   CLL|      10|                 5.5|                49.0|\n",
      "|   CLT|     994|  11.121399176954732|                98.0|\n",
      "|   CMH|     320|   9.331210191082803|                90.0|\n",
      "|   CMI|      10|                 3.8|                 5.0|\n",
      "|   CMX|       4|                0.75|                 3.0|\n",
      "|   COD|       3|  24.333333333333332|                73.0|\n",
      "|   COS|     100|               13.74|                88.0|\n",
      "|   COU|       7|  2.1666666666666665|                13.0|\n",
      "|   CPR|      12|  1.2727272727272727|                 8.0|\n",
      "|   CRP|      48|                 6.0|                76.0|\n",
      "|   CRW|      29|                29.0|                71.0|\n",
      "|   CSG|      14|                 1.0|                 7.0|\n",
      "|   CVG|     570|   7.101785714285715|                 9.0|\n",
      "|   CWA|      10|                 1.6|                 3.0|\n",
      "|   DAB|      26|   8.384615384615385|                 9.0|\n",
      "|   DAL|     425|   9.295942720763723|                91.0|\n",
      "|   DAY|     154|    7.97986577181208|                 9.0|\n",
      "|   DBQ|       6|                52.8|                92.0|\n",
      "|   DCA|     704|   9.595620437956205|                95.0|\n",
      "|   DEN|    1592|  12.815189873417722|                99.0|\n",
      "|   DET|      13|  5.6923076923076925|                38.0|\n",
      "|   DFW|    2188|  10.758861940298507|                99.0|\n",
      "|   DHN|       3|                 0.0|                 0.0|\n",
      "|   DIK|       1|                 0.0|                 0.0|\n",
      "|   DLG|       1|                 3.0|                 3.0|\n",
      "|   DLH|      14|   5.076923076923077|                60.0|\n",
      "|   DRO|       9|                15.0|                80.0|\n",
      "|   DSM|      85|   8.560975609756097|                 9.0|\n",
      "|   DTW|    1190|  10.761499148211243|                98.0|\n",
      "|   DUT|       7|   9.333333333333334|                38.0|\n",
      "|   EAU|       5|                 2.4|                12.0|\n",
      "+------+--------+--------------------+--------------------+\n",
      "only showing top 100 rows\n",
      "\n"
     ]
    }
   ],
   "source": [
    "# count total number of flights by origin airport and total avg and maximum DepDelay time of each airport\n",
    "spark.sql('select origin, count(*),  avg(DepDelayMinutes), max(DepDelayMinutes) from AirlineTable group by origin  ').show(100)"
   ]
  },
  {
   "cell_type": "code",
   "execution_count": 71,
   "id": "3b877f6c",
   "metadata": {},
   "outputs": [
    {
     "name": "stdout",
     "output_type": "stream",
     "text": [
      "+-----------+----------------+\n",
      "|OriginState|count(cancelled)|\n",
      "+-----------+----------------+\n",
      "|         SC|               8|\n",
      "|         AZ|              12|\n",
      "|         MN|              26|\n",
      "|         NJ|              27|\n",
      "|         OR|               5|\n",
      "|         VA|              41|\n",
      "|         RI|               4|\n",
      "|         KY|              15|\n",
      "|         MI|              24|\n",
      "|         NV|              10|\n",
      "|         WI|               6|\n",
      "|         CA|              99|\n",
      "|         NE|               2|\n",
      "|         NC|              31|\n",
      "|         MO|              20|\n",
      "|         IL|              76|\n",
      "|         ND|               1|\n",
      "|         WA|              10|\n",
      "|         AL|               7|\n",
      "|         IN|               7|\n",
      "+-----------+----------------+\n",
      "only showing top 20 rows\n",
      "\n"
     ]
    }
   ],
   "source": [
    "# Calculate origin state wise cancelled flights\n",
    "spark.sql ('select OriginState , count(cancelled)  from AirlineTable  where Cancelled = 1 group by OriginState').show()\n",
    "\n",
    "\n"
   ]
  },
  {
   "cell_type": "code",
   "execution_count": 72,
   "id": "0c94462f",
   "metadata": {},
   "outputs": [],
   "source": [
    "#Rank and number of diverted flight by origin"
   ]
  },
  {
   "cell_type": "code",
   "execution_count": 74,
   "id": "e756ffd3",
   "metadata": {},
   "outputs": [
    {
     "name": "stdout",
     "output_type": "stream",
     "text": [
      "+------+--------+\n",
      "|origin|count(1)|\n",
      "+------+--------+\n",
      "|   ATL|       8|\n",
      "|   ORD|       7|\n",
      "|   DFW|       6|\n",
      "|   MCO|       6|\n",
      "|   PHX|       6|\n",
      "|   LAX|       5|\n",
      "|   IAH|       5|\n",
      "|   CLE|       4|\n",
      "|   SFO|       3|\n",
      "|   LAS|       3|\n",
      "|   MEM|       3|\n",
      "|   BOS|       3|\n",
      "|   CMH|       3|\n",
      "|   IAD|       3|\n",
      "|   CLT|       3|\n",
      "|   TPA|       3|\n",
      "|   MIA|       3|\n",
      "|   EWR|       2|\n",
      "|   DEN|       2|\n",
      "|   SMF|       2|\n",
      "+------+--------+\n",
      "only showing top 20 rows\n",
      "\n"
     ]
    }
   ],
   "source": [
    "spark.sql(\"select origin,count(*) from AirlineTable where year = 2010 and month = 6  group by origin order by count(*) desc\").show()"
   ]
  },
  {
   "cell_type": "code",
   "execution_count": 76,
   "id": "9f64d18c",
   "metadata": {},
   "outputs": [
    {
     "name": "stderr",
     "output_type": "stream",
     "text": [
      "22/05/31 14:14:22 WARN WindowExec: No Partition Defined for Window operation! Moving all data to a single partition, this can cause serious performance degradation.\n",
      "22/05/31 14:14:22 WARN WindowExec: No Partition Defined for Window operation! Moving all data to a single partition, this can cause serious performance degradation.\n",
      "22/05/31 14:14:23 WARN WindowExec: No Partition Defined for Window operation! Moving all data to a single partition, this can cause serious performance degradation.\n",
      "22/05/31 14:14:23 WARN WindowExec: No Partition Defined for Window operation! Moving all data to a single partition, this can cause serious performance degradation.\n"
     ]
    },
    {
     "name": "stdout",
     "output_type": "stream",
     "text": [
      "+------+-------------+-------+\n",
      "|origin|sum(diverted)|RANKING|\n",
      "+------+-------------+-------+\n",
      "|   DEN|          6.0|      1|\n",
      "|   ATL|          6.0|      1|\n",
      "|   ORD|          6.0|      1|\n",
      "|   MSP|          6.0|      1|\n",
      "|   DFW|          5.0|      5|\n",
      "|   FLL|          5.0|      5|\n",
      "|   CVG|          4.0|      7|\n",
      "|   CLT|          4.0|      7|\n",
      "|   LAX|          4.0|      7|\n",
      "|   MCO|          4.0|      7|\n",
      "|   CMH|          3.0|     11|\n",
      "|   SEA|          3.0|     11|\n",
      "|   PDX|          3.0|     11|\n",
      "|   BWI|          3.0|     11|\n",
      "|   STL|          3.0|     11|\n",
      "|   PIT|          3.0|     11|\n",
      "|   DCA|          2.0|     17|\n",
      "|   PSG|          2.0|     17|\n",
      "|   BNA|          2.0|     17|\n",
      "|   IAH|          2.0|     17|\n",
      "+------+-------------+-------+\n",
      "only showing top 20 rows\n",
      "\n"
     ]
    }
   ],
   "source": [
    "# the next 3 cells demonstrates Rank , Dense_Rank and Row_number\n",
    "spark.sql(\"select origin,sum(diverted),RANK() over(order by sum(diverted) desc) AS RANKING from AirlineTable group by origin\").show()"
   ]
  },
  {
   "cell_type": "code",
   "execution_count": 77,
   "id": "d91829f3",
   "metadata": {},
   "outputs": [
    {
     "name": "stdout",
     "output_type": "stream",
     "text": [
      "+------+-------------+-------+\n",
      "|origin|sum(diverted)|RANKING|\n",
      "+------+-------------+-------+\n",
      "|   DEN|          6.0|      1|\n",
      "|   ATL|          6.0|      1|\n",
      "|   ORD|          6.0|      1|\n",
      "|   MSP|          6.0|      1|\n",
      "|   DFW|          5.0|      2|\n",
      "|   FLL|          5.0|      2|\n",
      "|   CVG|          4.0|      3|\n",
      "|   CLT|          4.0|      3|\n",
      "|   LAX|          4.0|      3|\n",
      "|   MCO|          4.0|      3|\n",
      "|   CMH|          3.0|      4|\n",
      "|   SEA|          3.0|      4|\n",
      "|   PDX|          3.0|      4|\n",
      "|   BWI|          3.0|      4|\n",
      "|   STL|          3.0|      4|\n",
      "|   PIT|          3.0|      4|\n",
      "|   DCA|          2.0|      5|\n",
      "|   PSG|          2.0|      5|\n",
      "|   BNA|          2.0|      5|\n",
      "|   IAH|          2.0|      5|\n",
      "+------+-------------+-------+\n",
      "only showing top 20 rows\n",
      "\n"
     ]
    },
    {
     "name": "stderr",
     "output_type": "stream",
     "text": [
      "22/05/31 14:16:12 WARN WindowExec: No Partition Defined for Window operation! Moving all data to a single partition, this can cause serious performance degradation.\n",
      "22/05/31 14:16:12 WARN WindowExec: No Partition Defined for Window operation! Moving all data to a single partition, this can cause serious performance degradation.\n",
      "22/05/31 14:16:13 WARN WindowExec: No Partition Defined for Window operation! Moving all data to a single partition, this can cause serious performance degradation.\n",
      "22/05/31 14:16:13 WARN WindowExec: No Partition Defined for Window operation! Moving all data to a single partition, this can cause serious performance degradation.\n"
     ]
    }
   ],
   "source": [
    "spark.sql(\"select origin,sum(diverted),Dense_rank() over(order by sum(diverted) desc) AS RANKING from AirlineTable group by origin\").show()"
   ]
  },
  {
   "cell_type": "code",
   "execution_count": 78,
   "id": "02f30b47",
   "metadata": {},
   "outputs": [
    {
     "name": "stdout",
     "output_type": "stream",
     "text": [
      "+------+-------------+-------+\n",
      "|origin|sum(diverted)|RANKING|\n",
      "+------+-------------+-------+\n",
      "|   DEN|          6.0|      1|\n",
      "|   ATL|          6.0|      2|\n",
      "|   ORD|          6.0|      3|\n",
      "|   MSP|          6.0|      4|\n",
      "|   DFW|          5.0|      5|\n",
      "|   FLL|          5.0|      6|\n",
      "|   CVG|          4.0|      7|\n",
      "|   CLT|          4.0|      8|\n",
      "|   LAX|          4.0|      9|\n",
      "|   MCO|          4.0|     10|\n",
      "|   CMH|          3.0|     11|\n",
      "|   SEA|          3.0|     12|\n",
      "|   PDX|          3.0|     13|\n",
      "|   BWI|          3.0|     14|\n",
      "|   STL|          3.0|     15|\n",
      "|   PIT|          3.0|     16|\n",
      "|   DCA|          2.0|     17|\n",
      "|   PSG|          2.0|     18|\n",
      "|   BNA|          2.0|     19|\n",
      "|   IAH|          2.0|     20|\n",
      "+------+-------------+-------+\n",
      "only showing top 20 rows\n",
      "\n"
     ]
    },
    {
     "name": "stderr",
     "output_type": "stream",
     "text": [
      "22/05/31 14:17:05 WARN WindowExec: No Partition Defined for Window operation! Moving all data to a single partition, this can cause serious performance degradation.\n",
      "22/05/31 14:17:05 WARN WindowExec: No Partition Defined for Window operation! Moving all data to a single partition, this can cause serious performance degradation.\n",
      "22/05/31 14:17:05 WARN WindowExec: No Partition Defined for Window operation! Moving all data to a single partition, this can cause serious performance degradation.\n",
      "22/05/31 14:17:05 WARN WindowExec: No Partition Defined for Window operation! Moving all data to a single partition, this can cause serious performance degradation.\n"
     ]
    }
   ],
   "source": [
    "spark.sql(\"select origin,sum(diverted),Row_number() over(order by sum(diverted) desc) AS RANKING from AirlineTable group by origin\").show()\n"
   ]
  },
  {
   "cell_type": "code",
   "execution_count": 79,
   "id": "5cfad9cc",
   "metadata": {},
   "outputs": [],
   "source": [
    "#select some columns\n",
    "df1 = spark.sql(\"select year,count(*) AS TOTAL_FLIGHT ,count(arrdelay==0) AS TOTAL_ON_TIME,sum(cancelled) AS TOTAL_CANCELLED,sum(diverted) AS TOTAL_DIRVERTED from AirlineTable where group by year;\")"
   ]
  },
  {
   "cell_type": "code",
   "execution_count": 82,
   "id": "e719d4b9",
   "metadata": {},
   "outputs": [],
   "source": [
    "#register as table\n",
    "df1.createOrReplaceTempView ('AirlineTable1')"
   ]
  },
  {
   "cell_type": "code",
   "execution_count": 84,
   "id": "1b1129d5",
   "metadata": {},
   "outputs": [
    {
     "name": "stdout",
     "output_type": "stream",
     "text": [
      "+----+------------+-------------+---------------+---------------+\n",
      "|year|TOTAL_FLIGHT|TOTAL_ON_TIME|TOTAL_CANCELLED|TOTAL_DIRVERTED|\n",
      "+----+------------+-------------+---------------+---------------+\n",
      "|1987|         339|          336|            3.0|            0.0|\n",
      "|2016|        1502|         1484|           17.0|            1.0|\n",
      "|2020|         462|          438|           24.0|            0.0|\n",
      "|2012|        1519|         1497|           20.0|            2.0|\n",
      "|1988|        1310|         1293|           15.0|            2.0|\n",
      "|2019|        1900|         1862|           34.0|            4.0|\n",
      "|2017|        1449|         1421|           22.0|            6.0|\n",
      "|2014|        1513|         1476|           31.0|            6.0|\n",
      "|2013|        1690|         1663|           22.0|            5.0|\n",
      "|2005|        1812|         1776|           33.0|            3.0|\n",
      "|2000|        1477|         1432|           42.0|            3.0|\n",
      "|2002|        1371|         1360|           11.0|            0.0|\n",
      "|2009|        1604|         1578|           19.0|            7.0|\n",
      "|2018|        1862|         1833|           24.0|            5.0|\n",
      "|1995|        1377|         1352|           22.0|            3.0|\n",
      "|2006|        1900|         1862|           30.0|            8.0|\n",
      "|2004|        1847|         1815|           29.0|            3.0|\n",
      "|2011|        1551|         1516|           29.0|            6.0|\n",
      "|1989|        1288|         1259|           26.0|            3.0|\n",
      "|1992|        1335|         1318|           14.0|            3.0|\n",
      "+----+------------+-------------+---------------+---------------+\n",
      "only showing top 20 rows\n",
      "\n"
     ]
    }
   ],
   "source": [
    "spark.sql('select * from AirlineTable1').show()"
   ]
  },
  {
   "cell_type": "code",
   "execution_count": null,
   "id": "d3017f0e",
   "metadata": {},
   "outputs": [],
   "source": []
  },
  {
   "cell_type": "code",
   "execution_count": null,
   "id": "1104a2a0",
   "metadata": {},
   "outputs": [],
   "source": []
  },
  {
   "cell_type": "code",
   "execution_count": null,
   "id": "2a4ba88c",
   "metadata": {},
   "outputs": [],
   "source": []
  },
  {
   "cell_type": "code",
   "execution_count": null,
   "id": "535d940d",
   "metadata": {},
   "outputs": [],
   "source": []
  },
  {
   "cell_type": "code",
   "execution_count": null,
   "id": "6a392c7f",
   "metadata": {},
   "outputs": [],
   "source": []
  },
  {
   "cell_type": "code",
   "execution_count": null,
   "id": "63c1446d",
   "metadata": {},
   "outputs": [],
   "source": []
  },
  {
   "cell_type": "code",
   "execution_count": 60,
   "id": "e93ac4e1",
   "metadata": {},
   "outputs": [],
   "source": [
    "\n"
   ]
  },
  {
   "cell_type": "code",
   "execution_count": null,
   "id": "8a609e19",
   "metadata": {},
   "outputs": [],
   "source": []
  },
  {
   "cell_type": "code",
   "execution_count": null,
   "id": "d9b724ce",
   "metadata": {},
   "outputs": [],
   "source": []
  },
  {
   "cell_type": "code",
   "execution_count": null,
   "id": "f88b219c",
   "metadata": {},
   "outputs": [],
   "source": []
  }
 ],
 "metadata": {
  "kernelspec": {
   "display_name": "Python 3 (ipykernel)",
   "language": "python",
   "name": "python3"
  },
  "language_info": {
   "codemirror_mode": {
    "name": "ipython",
    "version": 3
   },
   "file_extension": ".py",
   "mimetype": "text/x-python",
   "name": "python",
   "nbconvert_exporter": "python",
   "pygments_lexer": "ipython3",
   "version": "3.8.8"
  }
 },
 "nbformat": 4,
 "nbformat_minor": 5
}
